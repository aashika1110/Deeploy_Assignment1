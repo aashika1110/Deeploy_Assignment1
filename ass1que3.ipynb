{
 "cells": [
  {
   "cell_type": "code",
   "id": "initial_id",
   "metadata": {
    "collapsed": true,
    "ExecuteTime": {
     "end_time": "2024-12-17T12:11:41.777321Z",
     "start_time": "2024-12-17T12:11:41.729622Z"
    }
   },
   "source": [
    "\n",
    "import numpy as np\n",
    "from PIL import Image\n",
    "\n",
    "def detect_flag_midpoints(image_path):\n",
    "    \"\"\"\n",
    "    Detects the middle of red and white regions and determines the flag type.\n",
    "\n",
    "    Parameters:\n",
    "        image_path (str): Path to the flag image.\n",
    "\n",
    "    Returns:\n",
    "        str: \"Indonesia\" or \"Poland\"\n",
    "    \"\"\"\n",
    "    # Open image and convert to RGB\n",
    "    img = Image.open(image_path).convert(\"RGB\")\n",
    "    img_data = np.array(img)\n",
    "\n",
    "    # Get dimensions\n",
    "    height, width, _ = img_data.shape\n",
    "\n",
    "    # Lists to store rows classified as red or white\n",
    "    red_rows = []\n",
    "    white_rows = []\n",
    "\n",
    "    # Loop through each row of the image\n",
    "    for y in range(height):\n",
    "        row = img_data[y, :, :]\n",
    "        avg_color = np.mean(row, axis=0)  # Calculate average color of the row\n",
    "        r, g, b = avg_color\n",
    "\n",
    "        # Check if the row is predominantly red\n",
    "        if r > 150 and g < 100 and b < 100:  # Red threshold\n",
    "            red_rows.append(y)\n",
    "        # Check if the row is predominantly white\n",
    "        elif r > 200 and g > 200 and b > 200:  # White threshold\n",
    "            white_rows.append(y)\n",
    "\n",
    "    # Find the central row (midpoint) of red and white regions\n",
    "    red_mid = np.median(red_rows) if red_rows else None\n",
    "    white_mid = np.median(white_rows) if white_rows else None\n",
    "\n",
    "    # If no red or white region is detected\n",
    "    if red_mid is None or white_mid is None:\n",
    "        return \"Unknown Flag\"\n",
    "\n",
    "    # Compare the positions of red and white midpoints\n",
    "    if red_mid < white_mid:\n",
    "        return \"Indonesia\"  # Red is above white\n",
    "    else:\n",
    "        return \"Poland\"  # White is above red\n",
    "\n",
    "# Example Usage\n",
    "image_path = \"polandf.png\"  # Replace with your image path\n",
    "result = detect_flag_midpoints(image_path)\n",
    "print(f\"The flag is of: {result}\")\n",
    "\n"
   ],
   "outputs": [
    {
     "name": "stdout",
     "output_type": "stream",
     "text": [
      "The flag is of: Unknown Flag\n"
     ]
    }
   ],
   "execution_count": 8
  }
 ],
 "metadata": {
  "kernelspec": {
   "display_name": "Python 3",
   "language": "python",
   "name": "python3"
  },
  "language_info": {
   "codemirror_mode": {
    "name": "ipython",
    "version": 2
   },
   "file_extension": ".py",
   "mimetype": "text/x-python",
   "name": "python",
   "nbconvert_exporter": "python",
   "pygments_lexer": "ipython2",
   "version": "2.7.6"
  }
 },
 "nbformat": 4,
 "nbformat_minor": 5
}
