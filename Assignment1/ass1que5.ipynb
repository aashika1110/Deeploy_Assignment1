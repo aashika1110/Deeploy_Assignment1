{
 "cells": [
  {
   "cell_type": "code",
   "id": "initial_id",
   "metadata": {
    "collapsed": true,
    "ExecuteTime": {
     "end_time": "2024-12-17T18:36:41.087903Z",
     "start_time": "2024-12-17T18:36:41.058900Z"
    }
   },
   "source": [
    "\n",
    "import numpy as np\n",
    "from PIL import Image, ImageFilter\n",
    "\n",
    "def detect_flag_edges(image_path):\n",
    "    \"\"\"\n",
    "    Detects the edges of the flag, removes wrinkles, crops the clean flag, and determines\n",
    "    if the flag is Indonesia's or Poland's.\n",
    "\n",
    "    Parameters:\n",
    "        image_path (str): Path to the flag image.\n",
    "\n",
    "    Returns:\n",
    "        str: \"Indonesia\" or \"Poland\"\n",
    "    \"\"\"\n",
    "    # Step 1: Open the image and convert to grayscale\n",
    "    img = Image.open(image_path).convert(\"L\")  # Grayscale\n",
    "    img = img.filter(ImageFilter.FIND_EDGES)  # Edge detection filter\n",
    "\n",
    "    # Convert to numpy array\n",
    "    img_data = np.array(img)\n",
    "    height, width = img_data.shape\n",
    "\n",
    "    # Step 2: Find the bounding box of the flag (remove wrinkles)\n",
    "    flag_rows = np.any(img_data > 50, axis=1)  # Threshold edges in rows\n",
    "    flag_cols = np.any(img_data > 50, axis=0)  # Threshold edges in columns\n",
    "\n",
    "    top, bottom = np.where(flag_rows)[0][[0, -1]]  # First and last rows with edges\n",
    "    left, right = np.where(flag_cols)[0][[0, -1]]  # First and last columns with edges\n",
    "\n",
    "    # Crop the clean flag area\n",
    "    flag_area = Image.open(image_path).crop((left, top, right, bottom)).convert(\"RGB\")\n",
    "    flag_data = np.array(flag_area)\n",
    "    flag_height, flag_width, _ = flag_data.shape\n",
    "\n",
    "    # Step 3: Divide the flag into two equal halves (top and bottom)\n",
    "    top_half = flag_data[:flag_height // 2, :, :]\n",
    "    bottom_half = flag_data[flag_height // 2:, :, :]\n",
    "\n",
    "    # Step 4: Calculate the average color for top and bottom halves\n",
    "    top_avg = np.mean(top_half, axis=(0, 1))  # [R, G, B] for top\n",
    "    bottom_avg = np.mean(bottom_half, axis=(0, 1))  # [R, G, B] for bottom\n",
    "\n",
    "    # Step 5: Determine flag based on red dominance\n",
    "    top_redness = top_avg[0] - top_avg[1] - top_avg[2]\n",
    "    bottom_redness = bottom_avg[0] - bottom_avg[1] - bottom_avg[2]\n",
    "\n",
    "    if top_redness > bottom_redness:\n",
    "        return \"Indonesia\"  # Red is on top\n",
    "    else:\n",
    "        return \"Poland\"  # White is on top\n",
    "\n",
    "# Example Usage\n",
    "image_path = \"indonesiaf.png\"  # Replace with your image path\n",
    "result = detect_flag_edges(image_path)\n",
    "print(f\"The flag is of: {result}\")\n",
    "\n"
   ],
   "outputs": [
    {
     "name": "stdout",
     "output_type": "stream",
     "text": [
      "The flag is of: Indonesia\n"
     ]
    }
   ],
   "execution_count": 2
  }
 ],
 "metadata": {
  "kernelspec": {
   "display_name": "Python 3",
   "language": "python",
   "name": "python3"
  },
  "language_info": {
   "codemirror_mode": {
    "name": "ipython",
    "version": 2
   },
   "file_extension": ".py",
   "mimetype": "text/x-python",
   "name": "python",
   "nbconvert_exporter": "python",
   "pygments_lexer": "ipython2",
   "version": "2.7.6"
  }
 },
 "nbformat": 4,
 "nbformat_minor": 5
}
